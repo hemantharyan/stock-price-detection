{
 "cells": [
  {
   "cell_type": "code",
   "execution_count": 1,
   "metadata": {
    "scrolled": false
   },
   "outputs": [
    {
     "name": "stderr",
     "output_type": "stream",
     "text": [
      "Using TensorFlow backend.\n"
     ]
    },
    {
     "name": "stdout",
     "output_type": "stream",
     "text": [
      "WARNING:tensorflow:From C:\\Users\\Pavaana\\Anaconda3\\lib\\site-packages\\keras\\backend\\tensorflow_backend.py:74: The name tf.get_default_graph is deprecated. Please use tf.compat.v1.get_default_graph instead.\n",
      "\n",
      "WARNING:tensorflow:From C:\\Users\\Pavaana\\Anaconda3\\lib\\site-packages\\keras\\backend\\tensorflow_backend.py:517: The name tf.placeholder is deprecated. Please use tf.compat.v1.placeholder instead.\n",
      "\n",
      "WARNING:tensorflow:From C:\\Users\\Pavaana\\Anaconda3\\lib\\site-packages\\keras\\backend\\tensorflow_backend.py:4138: The name tf.random_uniform is deprecated. Please use tf.random.uniform instead.\n",
      "\n",
      "WARNING:tensorflow:From C:\\Users\\Pavaana\\Anaconda3\\lib\\site-packages\\keras\\backend\\tensorflow_backend.py:133: The name tf.placeholder_with_default is deprecated. Please use tf.compat.v1.placeholder_with_default instead.\n",
      "\n",
      "WARNING:tensorflow:From C:\\Users\\Pavaana\\Anaconda3\\lib\\site-packages\\keras\\backend\\tensorflow_backend.py:3445: calling dropout (from tensorflow.python.ops.nn_ops) with keep_prob is deprecated and will be removed in a future version.\n",
      "Instructions for updating:\n",
      "Please use `rate` instead of `keep_prob`. Rate should be set to `rate = 1 - keep_prob`.\n"
     ]
    },
    {
     "ename": "NameError",
     "evalue": "name 'tion' is not defined",
     "output_type": "error",
     "traceback": [
      "\u001b[1;31m---------------------------------------------------------------------------\u001b[0m",
      "\u001b[1;31mNameError\u001b[0m                                 Traceback (most recent call last)",
      "\u001b[1;32m<ipython-input-1-348d61a9c9cf>\u001b[0m in \u001b[0;36m<module>\u001b[1;34m\u001b[0m\n\u001b[0;32m     41\u001b[0m \u001b[0mregressor\u001b[0m\u001b[1;33m.\u001b[0m\u001b[0madd\u001b[0m\u001b[1;33m(\u001b[0m\u001b[0mDropout\u001b[0m\u001b[1;33m(\u001b[0m\u001b[1;36m0.2\u001b[0m\u001b[1;33m)\u001b[0m\u001b[1;33m)\u001b[0m\u001b[1;33m\u001b[0m\u001b[1;33m\u001b[0m\u001b[0m\n\u001b[0;32m     42\u001b[0m \u001b[1;33m\u001b[0m\u001b[0m\n\u001b[1;32m---> 43\u001b[1;33m \u001b[0mtion\u001b[0m\u001b[1;33m\u001b[0m\u001b[1;33m\u001b[0m\u001b[0m\n\u001b[0m\u001b[0;32m     44\u001b[0m \u001b[0mregressor\u001b[0m\u001b[1;33m.\u001b[0m\u001b[0madd\u001b[0m\u001b[1;33m(\u001b[0m\u001b[0mLSTM\u001b[0m\u001b[1;33m(\u001b[0m\u001b[0munits\u001b[0m \u001b[1;33m=\u001b[0m \u001b[1;36m50\u001b[0m\u001b[1;33m)\u001b[0m\u001b[1;33m)\u001b[0m\u001b[1;33m\u001b[0m\u001b[1;33m\u001b[0m\u001b[0m\n\u001b[0;32m     45\u001b[0m \u001b[0mregressor\u001b[0m\u001b[1;33m.\u001b[0m\u001b[0madd\u001b[0m\u001b[1;33m(\u001b[0m\u001b[0mDropout\u001b[0m\u001b[1;33m(\u001b[0m\u001b[1;36m0.2\u001b[0m\u001b[1;33m)\u001b[0m\u001b[1;33m)\u001b[0m\u001b[1;33m\u001b[0m\u001b[1;33m\u001b[0m\u001b[0m\n",
      "\u001b[1;31mNameError\u001b[0m: name 'tion' is not defined"
     ]
    }
   ],
   "source": [
    "import numpy as np\n",
    "import matplotlib.pyplot as plt\n",
    "import pandas as pd\n",
    "\n",
    "dataset_train = pd.read_csv('Google_Stock_Price_Train.csv')\n",
    "training_set = dataset_train.iloc[:, 1:2].values\n",
    "\n",
    "from sklearn.preprocessing import MinMaxScaler\n",
    "sc = MinMaxScaler(feature_range = (0, 1))\n",
    "training_set_scaled = sc.fit_transform(training_set)\n",
    "\n",
    "X_train = []\n",
    "y_train = []\n",
    "for i in range(60, 1258):\n",
    "    X_train.append(training_set_scaled[i-60:i, 0])\n",
    "    y_train.append(training_set_scaled[i, 0])\n",
    "X_train, y_train = np.array(X_train), np.array(y_train)\n",
    "\n",
    "X_train = np.reshape(X_train, (X_train.shape[0], X_train.shape[1], 1))\n",
    "\n",
    "\n",
    "\n",
    "from keras.models import Sequential\n",
    "from keras.layers import Dense\n",
    "from keras.layers import LSTM\n",
    "from keras.layers import Dropout\n",
    "\n",
    "    \n",
    "regressor = Sequential()\n",
    "\n",
    "\n",
    "regressor.add(LSTM(units = 50, return_sequences = True, input_shape = (X_train.shape[1], 1)))\n",
    "regressor.add(Dropout(0.2))\n",
    "\n",
    "\n",
    "regressor.add(LSTM(units = 50, return_sequences = True))\n",
    "regressor.add(Dropout(0.2))\n",
    "\n",
    "\n",
    "regressor.add(LSTM(units = 50, return_sequences = True))\n",
    "regressor.add(Dropout(0.2))\n",
    "\n",
    "tion\n",
    "regressor.add(LSTM(units = 50))\n",
    "regressor.add(Dropout(0.2))\n",
    "\n",
    "\n",
    "regressor.add(Dense(units = 1))\n",
    "\n",
    "\n",
    "regressor.compile(optimizer = 'adam', loss = 'mean_squared_error')\n",
    "\n",
    "\n",
    "regressor.fit(X_train, y_train, epochs = 100, batch_size = 32)\n",
    "\n",
    "\n",
    "\n",
    "\n",
    "dataset_test = pd.read_csv('Google_Stock_Price_Test.csv')\n",
    "real_stock_price = dataset_test.iloc[:, 1:2].values\n",
    "\n",
    "\n",
    "dataset_total = pd.concat((dataset_train['Open'], dataset_test['Open']), axis = 0)\n",
    "inputs = dataset_total[len(dataset_total) - len(dataset_test) - 60:].values\n",
    "inputs = inputs.reshape(-1,1)\n",
    "inputs = sc.transform(inputs)\n",
    "X_test = []\n",
    "for i in range(60, 80):\n",
    "    X_test.append(inputs[i-60:i, 0])\n",
    "X_test = np.array(X_test)\n",
    "X_test = np.reshape(X_test, (X_test.shape[0], X_test.shape[1], 1))\n",
    "predicted_stock_price = regressor.predict(X_test)\n",
    "predicted_stock_price = sc.inverse_transform(predicted_stock_price)\n",
    "\n",
    "\n",
    "\n"
   ]
  },
  {
   "cell_type": "code",
   "execution_count": null,
   "metadata": {},
   "outputs": [],
   "source": [
    "\n",
    "\n",
    "dataset_test = pd.read_csv('yesbank.csv'.csv')\n",
    "real_stock_price = dataset_test.tail(16)\n",
    "\n",
    "\n",
    "dataset_total = pd.concat((dataset_train['Open'], dataset_test['Open']), axis = 0)\n",
    "inputs = dataset_total[len(dataset_total) - len(dataset_test) - 60:].values\n",
    "inputs = inputs.reshape(-1,1)\n",
    "inputs = sc.transform(inputs)\n",
    "X_test = []\n",
    "for i in range(60, 80):\n",
    "    X_test.append(inputs[i-60:i, 0])\n",
    "X_test = np.array(X_test)\n",
    "X_test = np.reshape(X_test, (X_test.shape[0], X_test.shape[1], 1))\n",
    "predicted_stock_price = regressor.predict(X_test)\n",
    "predicted_stock_price = sc.inverse_transform(predicted_stock_price)\n",
    "\n",
    "\n",
    "plt.plot(real_stock_price, color = 'red', label = 'Real Google Stock Price')\n",
    "plt.plot(predicted_stock_price, color = 'blue', label = 'Predicted Google Stock Price')\n",
    "plt.title('Google Stock Price Prediction')\n",
    "plt.xlabel('Time')\n",
    "plt.ylabel('Google Stock Price')\n",
    "plt.legend()\n",
    "plt.show()"
   ]
  },
  {
   "cell_type": "code",
   "execution_count": 15,
   "metadata": {},
   "outputs": [
    {
     "name": "stdout",
     "output_type": "stream",
     "text": [
      "           Date       Open       High        Low      Close  Adj Close  \\\n",
      "228  2020-01-01  46.950001  47.500000  46.500000  46.650002  46.650002   \n",
      "229  2020-01-02  46.799999  48.500000  46.400002  47.349998  47.349998   \n",
      "230  2020-01-03  47.349998  48.250000  46.849998  47.099998  47.099998   \n",
      "231  2020-01-06  46.750000  46.750000  45.000000  45.150002  45.150002   \n",
      "232  2020-01-07  45.700001  46.400002  43.950001  45.049999  45.049999   \n",
      "233  2020-01-08  46.250000  47.200001  45.299999  46.049999  46.049999   \n",
      "234  2020-01-09  47.000000  48.500000  46.299999  47.299999  47.299999   \n",
      "235  2020-01-10  47.950001  48.349998  43.799999  44.750000  44.750000   \n",
      "236  2020-01-13  43.400002  43.900002  41.049999  42.099998  42.099998   \n",
      "237  2020-01-14  41.750000  41.750000  36.549999  38.549999  38.549999   \n",
      "238  2020-01-15  38.450001  41.099998  36.650002  39.750000  39.750000   \n",
      "239  2020-01-16  40.150002  40.900002  39.750000  39.950001  39.950001   \n",
      "240  2020-01-17  37.599998  39.549999  37.000000  39.250000  39.250000   \n",
      "241  2020-01-20  39.500000  40.200001  38.450001  38.650002  38.650002   \n",
      "242  2020-01-21  38.599998  39.200001  38.099998  38.349998  38.349998   \n",
      "243  2020-01-22  38.700001  39.000000  38.000000  38.450001  38.450001   \n",
      "\n",
      "          Volume  \n",
      "228  102291841.0  \n",
      "229  122242838.0  \n",
      "230   94827592.0  \n",
      "231  102880221.0  \n",
      "232  111094678.0  \n",
      "233  140074287.0  \n",
      "234  152025694.0  \n",
      "235  303072426.0  \n",
      "236  194734026.0  \n",
      "237  314975429.0  \n",
      "238  400694734.0  \n",
      "239  126354618.0  \n",
      "240  125635833.0  \n",
      "241   89703186.0  \n",
      "242   67214779.0  \n",
      "243   62357383.0  \n"
     ]
    }
   ],
   "source": [
    "dfd=pd.read_csv(\"yesbank.csv\")\n",
    "print(dfd.tail(16))\n",
    "            "
   ]
  },
  {
   "cell_type": "code",
   "execution_count": 10,
   "metadata": {
    "scrolled": true
   },
   "outputs": [
    {
     "data": {
      "image/png": "[encoded data removed]",
      "text/plain": [
       "<Figure size 432x288 with 1 Axes>"
      ]
     },
     "metadata": {
      "needs_background": "light"
     },
     "output_type": "display_data"
    }
   ],
   "source": [
    "plt.plot(real_stock_price, color = 'red', label = 'Real Google Stock Price')\n",
    "plt.plot(predicted_stock_price, color = 'blue', label = 'Predicted Google Stock Price')\n",
    "plt.title('YesBank Price Prediction')\n",
    "plt.xlabel('Time')\n",
    "plt.savefig('graph.png')\n",
    "plt.ylabel('YesBank Price')\n",
    "plt.savefig('graph.png')\n",
    "plt.legend()\n",
    "plt.show()"
   ]
  },
  {
   "cell_type": "code",
   "execution_count": 17,
   "metadata": {},
   "outputs": [
    {
     "name": "stdout",
     "output_type": "stream",
     "text": [
      "[[786.14307]\n",
      " [782.98303]\n",
      " [783.7167 ]\n",
      " [785.8562 ]\n",
      " [789.9817 ]\n",
      " [796.6695 ]\n",
      " [802.3111 ]\n",
      " [803.8868 ]\n",
      " [803.42706]\n",
      " [802.85126]\n",
      " [802.84784]\n",
      " [803.0418 ]\n",
      " [803.1683 ]\n",
      " [803.8437 ]\n",
      " [804.7846 ]\n",
      " [810.00323]\n",
      " [817.8604 ]\n",
      " [825.9805 ]\n",
      " [829.6441 ]\n",
      " [823.4679 ]]\n"
     ]
    }
   ],
   "source": [
    "predicted_stock_price = regressor.predict(X_test)\n",
    "\n",
    "predicted_stock_price = sc.inverse_transform(predicted_stock_price)\n",
    "print(predicted_stock_price)"
   ]
  },
  {
   "cell_type": "code",
   "execution_count": 1,
   "metadata": {
    "scrolled": true
   },
   "outputs": [
    {
     "name": "stdout",
     "output_type": "stream",
     "text": [
      "review Count : 18\n",
      "['What I can say, it is testing lots of patience...!! Only the Q3 results can show some direction, i am sure its on positive side. Any NPA turns positive will be good sign, like CCD, Essar, ADAG...!! Lets hold with patience....!! Already all ...\\xa0', ' See more', 'rating agencies recommend those stocks which already risen to higher level and they starts rating only after increased price ..like in tata motors when it rises from 110 to 200..now likely to be in range 180-200 ..innocent investors won`t g...\\xa0', ' See more', 'guys, now just watch the game of Yes Bank, it will place a superb result and all experience PPL will get Cardiac attack after watching surprise result, yes is proceeding towards 75..', 'Happy to see you all. Be ready to gain all your money here in this good yes bank system. Because yes bank is going up to three digit figure soon. back to its prime. No one can change the share future. Be ready to see the up trend continuous...\\xa0', ' See more', 'today i have added 10000@38, definitely Yes Bank will touch 75 in next month, reason behind is I`m ignoring this Barking 🐕 here,', ' 4', 'guys if you look at gross/net npa of yes bank vis-a-vis icici bank, even icici bank had more than 8% gross and 4% net npa in fy18 but see now they made provisioning and heading for stability..its a matter of time, after capital infusion, gr...\\xa0', ' See more', '20yearSEXp... i have copy pasted your messages to Ms. swati singh who is executive vice president -marketing and communication aat yes bank. i have requested her to take up the matter with moneycontrol.com because moderators are allowing bo...\\xa0', ' See more', ' 9', 'it is damn sure that fund infusion will happen to the lowest as much then it will gear up. so investing at this price is very good', 'don`t spread fake news to NoNothing investors.. Yesbank will Trade 17₹ after 1st April', ' 2', 'recommend to accumulate on sip basis..huge return expected..all negativity already factored in and huge growth in future!']\n"
     ]
    }
   ],
   "source": [
    "import sys\n",
    "from PyQt4.QtGui import QApplication\n",
    "from PyQt4.QtCore import QUrl\n",
    "from PyQt4.QtWebKit import QWebPage\n",
    "import bs4 as bs\n",
    "import urllib.request\n",
    "\n",
    "class Client(QWebPage):\n",
    "\n",
    "    def __init__(self, url):\n",
    "        self.app = QApplication(sys.argv)\n",
    "        QWebPage.__init__(self)\n",
    "        self.loadFinished.connect(self.on_page_load)\n",
    "        self.mainFrame().load(QUrl(url))\n",
    "        self.app.exec_()\n",
    "        \n",
    "    def on_page_load(self):\n",
    "        self.app.quit()\n",
    "        \n",
    "url = 'https://mmb.moneycontrol.com/forum-topics/stocks/yes-bank-246084.html'\n",
    "client_response = Client(url)\n",
    "source = client_response.mainFrame().toHtml()\n",
    "soup = bs.BeautifulSoup(source, 'lxml')\n",
    "content = soup.select('#msg_wraper .txt16gry a')\n",
    "print('review Count :',len(content))\n",
    "reviews=[]\n",
    "for i in content:\n",
    "    reviews.append(i.text)\n",
    "\n",
    "print(reviews)"
   ]
  },
  {
   "cell_type": "code",
   "execution_count": 5,
   "metadata": {},
   "outputs": [
    {
     "data": {
      "text/plain": [
       "['positive',\n",
       " 'positive',\n",
       " 'negative',\n",
       " 'neutral',\n",
       " 'positive',\n",
       " 'neutral',\n",
       " 'positive',\n",
       " 'positive',\n",
       " 'neutral',\n",
       " 'neutral',\n",
       " 'positive',\n",
       " 'neutral']"
      ]
     },
     "execution_count": 5,
     "metadata": {},
     "output_type": "execute_result"
    }
   ],
   "source": [
    " \n",
    "def get_tweet_sentiment(tweet):\n",
    "    analysis = TextBlob(clean_tweet(tweet))     \n",
    "    if analysis.sentiment.polarity > 0:\n",
    "        return 'positive'\n",
    "    elif analysis.sentiment.polarity == 0: \n",
    "        return 'neutral'\n",
    "    else: \n",
    "        return 'negative'\n",
    "        \n",
    "        \n",
    "def clean_tweet(tweet):\n",
    "    return ' '.join(re.sub(\"(@[A-Za-z0-9]+)|([^0-9A-Za-z \\t]) |(\\w+:\\/\\/\\S+)\", \" \", tweet).split())         \n",
    "        \n",
    "    \n",
    "\n",
    "sentiment=[]\n",
    "\n",
    "df=reviews\n",
    "import re\n",
    "from textblob import TextBlob\n",
    "for i in range(len(df)):\n",
    "    n=df[i]\n",
    "    senti=get_tweet_sentiment(n)\n",
    "    sentiment.append(senti) \n",
    "sentiment"
   ]
  },
  {
   "cell_type": "code",
   "execution_count": 4,
   "metadata": {},
   "outputs": [
    {
     "name": "stdout",
     "output_type": "stream",
     "text": [
      "date and time = 03/02/2020 14:16:20\n"
     ]
    }
   ],
   "source": [
    "from datetime import datetime\n",
    "dt_string = now. strftime(\"%d/%m/%Y %H:%M:%S\")\n",
    "print(\"date and time =\",dt_string)"
   ]
  },
  {
   "cell_type": "code",
   "execution_count": 7,
   "metadata": {},
   "outputs": [
    {
     "data": {
      "text/plain": [
       "'03/02/2020 14:16:20'"
      ]
     },
     "execution_count": 7,
     "metadata": {},
     "output_type": "execute_result"
    }
   ],
   "source": [
    "dt_string"
   ]
  },
  {
   "cell_type": "code",
   "execution_count": 17,
   "metadata": {},
   "outputs": [],
   "source": [
    "import csv \n",
    "filename =\"date//\"+dt_string[:2]+\".csv\"\n",
    "fields = [] \n",
    "rows = []\n",
    "try:\n",
    "    print(\"error\")\n",
    "    with open(filename, 'r') as csvfile: \n",
    "        csvreader = csv.reader(csvfile)\n",
    "except:\n",
    "    with open(filename, 'w') as csvfile: \n",
    "        csvreader = csv.reader(csvfile)\n",
    "    "
   ]
  },
  {
   "cell_type": "code",
   "execution_count": 10,
   "metadata": {},
   "outputs": [],
   "source": [
    "import csv \n",
    "  \n",
    "# field names \n",
    "fields = ['Name', 'Branch', 'Year', 'CGPA'] \n",
    "  \n",
    "# data rows of csv file \n",
    "rows = [ ['Nikhil', 'COE', '2', '9.0'], \n",
    "         ['Sanchit', 'COE', '2', '9.1'], \n",
    "         ['Aditya', 'IT', '2', '9.3'], \n",
    "         ['Sagar', 'SE', '1', '9.5'], \n",
    "         ['Prateek', 'MCE', '3', '7.8'], \n",
    "         ['Sahil', 'EP', '2', '9.1']] \n",
    "  \n",
    "# name of csv file \n",
    "filename = \"university_records.csv\"\n",
    "  \n",
    "# writing to csv file \n",
    "with open(filename, 'w') as csvfile: \n",
    "    # creating a csv writer object \n",
    "    csvwriter = csv.writer(csvfile) \n",
    "      \n",
    "    # writing the fields \n",
    "    csvwriter.writerow(fields) \n",
    "      \n",
    "    # writing the data rows \n",
    "    csvwriter.writerows(rows)"
   ]
  },
  {
   "cell_type": "code",
   "execution_count": 13,
   "metadata": {},
   "outputs": [],
   "source": [
    "#9380497511 vishesh"
   ]
  },
  {
   "cell_type": "code",
   "execution_count": null,
   "metadata": {},
   "outputs": [],
   "source": []
  }
 ],
 "metadata": {
  "kernelspec": {
   "display_name": "Python 3",
   "language": "python",
   "name": "python3"
  },
  "language_info": {
   "codemirror_mode": {
    "name": "ipython",
    "version": 3
   },
   "file_extension": ".py",
   "mimetype": "text/x-python",
   "name": "python",
   "nbconvert_exporter": "python",
   "pygments_lexer": "ipython3",
   "version": "3.7.4"
  }
 },
 "nbformat": 4,
 "nbformat_minor": 2
}
